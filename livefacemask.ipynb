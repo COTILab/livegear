{
 "cells": [
  {
   "cell_type": "code",
   "execution_count": null,
   "metadata": {},
   "outputs": [],
   "source": [
    "!pip install mediapipe opencv-python pandas scikit-learn jdata numpy"
   ]
  },
  {
   "cell_type": "code",
   "execution_count": 1,
   "metadata": {},
   "outputs": [],
   "source": [
    "import mediapipe as mp # Import mediapipe\n",
    "import cv2 # Import opencv\n",
    "import jdata as jd\n",
    "from mediapipe.framework.formats import landmark_pb2\n",
    "import numpy as np"
   ]
  },
  {
   "cell_type": "code",
   "execution_count": 2,
   "metadata": {},
   "outputs": [],
   "source": [
    "mp_drawing = mp.solutions.drawing_utils # Drawing helpers\n",
    "mp_holistic = mp.solutions.holistic # Mediapipe Solutions\n",
    "atlas10_5=jd.load('atlas_19-5_10-5.json')"
   ]
  },
  {
   "cell_type": "code",
   "execution_count": 3,
   "metadata": {},
   "outputs": [],
   "source": [
    "def affinemap(pfrom, pto):\n",
    "    bsubmat=np.eye(3)\n",
    "    ptnum=len(pfrom)\n",
    "    amat=np.zeros((ptnum*3,9))\n",
    "    for i in range(ptnum):\n",
    "        amat[((i+1)*3-3):((i+1)*3),:]=np.kron(bsubmat,pfrom[i,:])\n",
    "    amat=np.hstack((amat,np.tile(bsubmat,(ptnum,1))))\n",
    "    \n",
    "    bvec=np.reshape(pto,(ptnum*3,1))\n",
    "    x=np.linalg.lstsq(amat, bvec, rcond=None)[0]\n",
    "    A=np.reshape(x[0:9],(3,3))\n",
    "    b=x[9:12]\n",
    "    return [A, b]\n",
    "\n",
    "def reg1020(Amat, bvec, pts):\n",
    "    newpt = np.matmul(Amat, (np.array(pts)).T)\n",
    "    newpt = newpt + np.tile(bvec, (1, len(pts)))\n",
    "    newpt = newpt.T\n",
    "    return newpt\n",
    "\n",
    "def landmark2numpy(landmarks):\n",
    "    pts = []\n",
    "    for p in landmarks.landmark:\n",
    "        pts.append([p.x, p.y, p.z])\n",
    "    return np.array(pts)\n",
    "\n",
    "def numpy2landmark(pts):\n",
    "    landmarks = landmark_pb2.NormalizedLandmarkList(landmark=[])\n",
    "    for p in pts:\n",
    "         lm =  landmark_pb2.NormalizedLandmark(x=p[0], y=p[1], z=p[2])\n",
    "         landmarks.landmark.append(lm)\n",
    "    return landmarks"
   ]
  },
  {
   "cell_type": "code",
   "execution_count": 21,
   "metadata": {},
   "outputs": [],
   "source": [
    "cap = cv2.VideoCapture(-1)\n",
    "#cap.set(cv2.CAP_PROP_FRAME_WIDTH, 1920)\n",
    "#cap.set(cv2.CAP_PROP_FRAME_HEIGHT, 1080)\n",
    "\n",
    "# Initiate holistic model\n",
    "with mp_holistic.Holistic(min_detection_confidence=0.5, min_tracking_confidence=0.5, smooth_landmarks=True) as holistic:\n",
    "\n",
    "    while cap.isOpened():\n",
    "        ret, frame = cap.read()\n",
    "\n",
    "        # Recolor Feed\n",
    "        image = cv2.cvtColor(frame, cv2.COLOR_BGR2RGB)\n",
    "        image.flags.writeable = False    \n",
    "\n",
    "        # Make Detections\n",
    "        results = holistic.process(image)\n",
    "\n",
    "        # Recolor image back to BGR for rendering\n",
    "        image.flags.writeable = True   \n",
    "        image = cv2.cvtColor(image, cv2.COLOR_RGB2BGR)\n",
    "\n",
    "        if(results.face_landmarks is not None):\n",
    "            pts=results.face_landmarks.landmark\n",
    "            landmark_face_subset = landmark_pb2.NormalizedLandmarkList(\n",
    "                landmark=[\n",
    "                    pts[168],\n",
    "                    pts[10],\n",
    "                    {'x':2*pts[234].x-pts[227].x, 'y':2*pts[234].y-pts[227].y, 'z':2*pts[234].z-pts[227].z},\n",
    "                    {'x':2*pts[454].x-pts[447].x, 'y':2*pts[454].y-pts[447].y, 'z':2*pts[454].z-pts[447].z}\n",
    "                ])\n",
    "            #print(landmark2numpy(landmark_face_subset))\n",
    "            #print(np.array([atlas10_5['nz'], atlas10_5['sm'][0], atlas10_5['rpa'], atlas10_5['lpa']]))\n",
    "            Amat, bvec = affinemap(np.array([atlas10_5['nz'], atlas10_5['sm'][1], atlas10_5['rpa'], atlas10_5['lpa']]),\n",
    "                                   landmark2numpy(landmark_face_subset))\n",
    "\n",
    "            aal = reg1020(Amat, bvec, atlas10_5['aal'])\n",
    "            aar = reg1020(Amat, bvec, atlas10_5['aar'])\n",
    "            sm = reg1020(Amat, bvec, atlas10_5['sm'])\n",
    "            cm = reg1020(Amat, bvec, atlas10_5['cm'])\n",
    "\n",
    "            \n",
    "        # 1. Draw face landmarks\n",
    "        facemesh = mp_holistic.FACE_CONNECTIONS if 'FACE_CONNECTIONS' in dir(mp_holistic) else mp_holistic.FACEMESH_CONTOURS\n",
    "        mp_drawing.draw_landmarks(image, results.face_landmarks, facemesh, \n",
    "                                 mp_drawing.DrawingSpec(color=(80,110,10), thickness=1, circle_radius=1),\n",
    "                                 mp_drawing.DrawingSpec(color=(80,256,121), thickness=1, circle_radius=1)\n",
    "                                 )   \n",
    "        if(results.face_landmarks is not None):\n",
    "            mp_drawing.draw_landmarks(image, landmark_face_subset, None, \n",
    "                                 mp_drawing.DrawingSpec(color=(255,0,0), thickness=1, circle_radius=3),\n",
    "                                 mp_drawing.DrawingSpec(color=(0,255,0), thickness=1, circle_radius=3)\n",
    "                                 )   \n",
    "            mp_drawing.draw_landmarks(image, numpy2landmark(np.vstack((aal,aar,sm,cm))), None, \n",
    "                                 mp_drawing.DrawingSpec(color=(255,255,0), thickness=1, circle_radius=3),\n",
    "                                 mp_drawing.DrawingSpec(color=(0,255,0), thickness=1, circle_radius=3)\n",
    "                                 )   \n",
    "        cv2.imshow('Raw Webcam Feed', image)\n",
    "        if cv2.waitKey(10) & 0xFF == ord('q'):\n",
    "            break\n",
    "\n",
    "cap.release()\n",
    "cv2.destroyAllWindows()"
   ]
  },
  {
   "cell_type": "code",
   "execution_count": null,
   "metadata": {},
   "outputs": [],
   "source": []
  }
 ],
 "metadata": {
  "interpreter": {
   "hash": "a39e1a436b29fdca74ae9660a8a3537026a00617a2dab5651e89e7588d7217e8"
  },
  "kernelspec": {
   "display_name": "Python 3 (ipykernel)",
   "language": "python",
   "name": "python3"
  },
  "language_info": {
   "codemirror_mode": {
    "name": "ipython",
    "version": 3
   },
   "file_extension": ".py",
   "mimetype": "text/x-python",
   "name": "python",
   "nbconvert_exporter": "python",
   "pygments_lexer": "ipython3",
   "version": "3.10.6"
  }
 },
 "nbformat": 4,
 "nbformat_minor": 2
}
